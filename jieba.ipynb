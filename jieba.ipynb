{
 "cells": [
  {
   "cell_type": "code",
   "execution_count": 2,
   "metadata": {},
   "outputs": [],
   "source": [
    "import jieba\n",
    "import jieba.analyse\n",
    "import csv\n",
    "import sys\n",
    "import numpy as np\n",
    "jieba.set_dictionary('dict.txt.big.txt')"
   ]
  },
  {
   "cell_type": "code",
   "execution_count": 3,
   "metadata": {},
   "outputs": [
    {
     "name": "stderr",
     "output_type": "stream",
     "text": [
      "Building prefix dict from C:\\Users\\fan\\Desktop\\webBug\\dict.txt.big.txt ...\n",
      "Loading model from cache C:\\Users\\fan\\AppData\\Local\\Temp\\jieba.u7fa3f1eb88f67958f22ad5a9691de6fe.cache\n",
      "Loading model cost 1.473 seconds.\n",
      "Prefix dict has been built succesfully.\n"
     ]
    }
   ],
   "source": [
    "#沒用split_mobile\n",
    "path_m = \"C:\\\\Users\\\\fan\\\\Desktop\\\\webBug\\\\mobile\\\\\"\n",
    "corpus = []\n",
    "mcorpus = []\n",
    "for i in range(1,101):\n",
    "    with open(path_m+'m{0}.txt'.format(i),'r', encoding = 'utf8') as mobile:\n",
    "        content = mobile.read()\n",
    "        mcorpus.append(content)\n",
    "        \n",
    "for line in mcorpus:\n",
    "    togetherM=\" \".join(jieba.cut(line, cut_all=False))\n",
    "    togetherM = togetherM.strip()\n",
    "    corpus.append(togetherM)"
   ]
  },
  {
   "cell_type": "code",
   "execution_count": 4,
   "metadata": {},
   "outputs": [
    {
     "name": "stdout",
     "output_type": "stream",
     "text": [
      "(100, 9373)\n",
      "done 0.8802914301378748\n"
     ]
    }
   ],
   "source": [
    "from sklearn import feature_extraction\n",
    "from sklearn.feature_extraction.text import TfidfVectorizer\n",
    "\n",
    "vectorizer = TfidfVectorizer()\n",
    "tfidf = vectorizer.fit_transform(corpus)\n",
    "print(tfidf.shape)\n",
    "words = vectorizer.get_feature_names()\n",
    "weight=tfidf.toarray()\n",
    "# print(weight)\n",
    "# print(np.where(weight==np.max(weight)))\n",
    "# np.argsort(weight, axis=0) \n",
    "top=[]\n",
    "#i代表100篇文章，j代表裡面的斷詞\n",
    "for i in range(len(corpus)):\n",
    "    #print('----Document %d----'% (i))\n",
    "    for j in range(len(words)):\n",
    "        if weight[i][j] > 0.8:\n",
    "            top.append(words[j])#查看top n的名字是什麼\n",
    "            print(words[j], weight[i][j])"
   ]
  },
  {
   "cell_type": "code",
   "execution_count": 5,
   "metadata": {},
   "outputs": [
    {
     "name": "stdout",
     "output_type": "stream",
     "text": [
      "(array([99, 71, 60, 58, 38, 89, 19, 11, 70, 54, 41, 96, 39, 78, 46, 13, 67,\n",
      "       81, 84, 15, 69, 93, 39, 75, 51, 83, 45, 92, 67, 69, 63, 55, 31, 46,\n",
      "       82, 63, 52, 54, 20, 42, 77, 83, 34, 69, 42, 76, 45, 40, 73, 88, 31,\n",
      "       80, 30, 63, 18,  6, 57, 97, 86, 90, 22, 95,  0, 17, 29, 32, 96,  6,\n",
      "       84, 23, 12, 11, 61, 65, 87, 47, 55,  0, 56, 81, 24, 28,  9, 16, 41,\n",
      "       32, 45, 17, 88, 53, 94,  9, 64, 23, 17, 80, 88,  1, 59, 59, 82, 80,\n",
      "       86, 44, 96, 21, 23, 13, 57, 14], dtype=int32), array([1109, 4452, 6274, 9065, 1787, 8412, 9320,  898, 6666,   10, 7226,\n",
      "          8, 7790, 2247,   14, 8615,   14,  898,   10, 7956, 8340,    8,\n",
      "       7796, 4065, 1893,   10, 1570, 5602,   10, 5007,   10, 8822,   14,\n",
      "         11,   10, 2736, 1416,   14,  727,   14, 7880,   14,  898, 3775,\n",
      "         11, 6202,   14, 1225, 2324, 5301,   11,   10, 9020,   14, 7798,\n",
      "         14, 2990, 2143,   10, 4254, 1306,    8,   14,  224, 5221,   14,\n",
      "       2496,   11,   14,   14, 1922,   14,   10, 2928,  731,   14,   10,\n",
      "         11, 1674, 7562,   14, 9340,   14, 4283,   14,   11,   11,   14,\n",
      "         10,   10,    8, 6817, 8083,   11,   11,   14,   14, 9109, 2618,\n",
      "       7242,   14, 1741,   14, 7284,   14, 3013, 2697, 5425,  676,  738],\n",
      "      dtype=int32))\n",
      "done 0.8802914301378748\n",
      "同步 0.7423206202205823\n",
      "晴空 0.7352884764046945\n",
      "雙清 0.7188351289180027\n",
      "larsonloreal 0.6125291758441134\n",
      "越南 0.5880039146421587\n",
      "鬧鐘 0.5803171692928727\n",
      "bwhmj 0.5753182939507319\n",
      "殘影 0.5647029474702914\n",
      "04 0.5620051770847897\n",
      "白邊 0.5606376532348626\n",
      "03 0.5529469207703457\n",
      "耳塞 0.5419651989644773\n",
      "ping 0.539398891140007\n",
      "08 0.5387954577016736\n",
      "通知 0.5370854917541675\n",
      "08 0.5312971590095537\n",
      "bwhmj 0.5266082026611959\n",
      "04 0.5222814942722749\n",
      "藍芽 0.5184725009407049\n",
      "資料夾 0.5035102052499654\n",
      "03 0.5029627756977543\n",
      "耳道 0.49483779035887054\n",
      "切換 0.49347171742097373\n",
      "m9 0.4926695530575463\n",
      "04 0.492409491451868\n",
      "iphone 0.4881779941527077\n",
      "感應 0.48581389613351583\n",
      "04 0.48039881138156926\n",
      "安全 0.4772268532969237\n",
      "04 0.476144720024397\n",
      "那條 0.47200085038967443\n",
      "08 0.47093790144835157\n",
      "05 0.4648885118290436\n",
      "04 0.4627168630089491\n",
      "u11 0.4625905031633009\n",
      "hdr 0.45937338620416995\n",
      "08 0.45907138177689577\n",
      "andyfresh 0.45036702483935254\n",
      "08 0.450314435234116\n",
      "自拍 0.44763909629920184\n",
      "08 0.4469138459886925\n",
      "bwhmj 0.4452207552860144\n",
      "備份 0.444540258151118\n",
      "05 0.4442078679177124\n",
      "日本 0.4414178359149446\n",
      "08 0.43386217040053965\n",
      "f7 0.43334641251085143\n",
      "qday 0.4325824069573936\n",
      "平板 0.4324171791495648\n",
      "05 0.42886871196984916\n",
      "04 0.4250549891359493\n",
      "降價 0.4210866262969278\n",
      "08 0.4199046224719394\n",
      "聊天 0.4187352944711478\n",
      "08 0.4178843199766403\n",
      "yurian 0.4148159076845459\n",
      "oled 0.41440187096278974\n",
      "04 0.4124979224133114\n",
      "印度 0.41211002956531184\n",
      "g5 0.41097281745552405\n",
      "03 0.4062001860252069\n",
      "08 0.4041615317605908\n",
      "188 0.4038850883605865\n",
      "山寨 0.39979837786023326\n",
      "08 0.39519512741100304\n",
      "sense 0.3898309239284075\n",
      "05 0.3884357464882983\n",
      "08 0.38736185009146773\n",
      "08 0.3817827731371134\n",
      "mate 0.3810776799559891\n",
      "08 0.37999280450814854\n",
      "04 0.3797309267730468\n",
      "xp 0.37940916805359026\n",
      "angela60531 0.3790956912374837\n",
      "08 0.37886005043040977\n",
      "04 0.37568411486270914\n",
      "05 0.37544328849026365\n",
      "joshua781021 0.3749840931792309\n",
      "簡訊 0.37495515977877686\n",
      "08 0.37442865684778637\n",
      "黑卡 0.3737341353333821\n",
      "08 0.372215702356648\n",
      "原生 0.3720374395072417\n",
      "08 0.37169018587619507\n",
      "05 0.370767949112416\n",
      "05 0.36800788232269244\n",
      "08 0.36664738413574693\n",
      "04 0.3658830021416331\n",
      "04 0.3658270040737253\n",
      "03 0.3643347996861025\n",
      "流量 0.35773534038545296\n",
      "視訊 0.35729596965228594\n",
      "05 0.35659268650382103\n",
      "05 0.3563682050888714\n",
      "08 0.3553259780795522\n",
      "08 0.35469592657111604\n",
      "電池 0.3546934410486017\n",
      "sugar 0.35452437285516825\n",
      "皮套 0.35452437285516825\n",
      "08 0.35441661660622903\n",
      "kkcity59 0.3543137137994738\n",
      "08 0.3524075172164123\n",
      "相簿 0.35219366557951903\n",
      "08 0.3510090402592053\n",
      "zenui 0.3500057300474976\n",
      "tony12526 0.34798604252452037\n",
      "待機 0.34684933373174504\n",
      "60\n",
      "['done', '同步', '晴空', '雙清', 'larsonloreal', '越南', '鬧鐘', 'bwhmj', '殘影', '04', '白邊', '03', '耳塞', 'ping', '08', '通知', '藍芽', '資料夾', '耳道', '切換', 'm9', 'iphone', '感應', '安全', '那條', '05', 'u11', 'hdr', 'andyfresh', '自拍', '備份', '日本', 'f7', 'qday', '平板', '降價', '聊天', 'yurian', 'oled', '印度', 'g5', '188', '山寨', 'sense', 'mate', 'xp', 'angela60531', 'joshua781021', '簡訊', '黑卡', '原生', '流量', '視訊', '電池', 'sugar', '皮套', 'kkcity59', '相簿', 'zenui', 'tony12526']\n"
     ]
    }
   ],
   "source": [
    "ii = np.unravel_index(np.argsort(weight.ravel())[-110:][::-1], weight.shape)\n",
    "print(ii)\n",
    "m_top=[]\n",
    "count=0\n",
    "\n",
    "for w in range(0,110):\n",
    "    #看看top n的名字和數字-沒過濾重複\n",
    "    print(words[ii[1][w]],weight[ii[0][w]][ii[1][w]])\n",
    "    \n",
    "    #把top的名字加入儲存的陣列-過濾重複\n",
    "    try: \n",
    "        if count == 60:\n",
    "            break\n",
    "        if words[ii[1][w]] not in m_top :\n",
    "            m_top.append(words[ii[1][w]])\n",
    "            count=count+1\n",
    "    except:\n",
    "        break\n",
    "    \n",
    "    with open('mobile60.csv','w',newline='',encoding='utf-8-sig') as m:\n",
    "        w = csv.writer(m)\n",
    "        w.writerow(m_top)\n",
    "print(count)    \n",
    "print(m_top)"
   ]
  },
  {
   "cell_type": "code",
   "execution_count": 228,
   "metadata": {},
   "outputs": [],
   "source": [
    "#沒用split_food\n",
    "path_f = \"C:\\\\Users\\\\fan\\\\Desktop\\\\webBug\\\\food\\\\\"\n",
    "corpus = []\n",
    "fcorpus = []\n",
    "for i in range(1,101):\n",
    "    with open(path_f+'f{0}.txt'.format(i),'r', encoding = 'utf8') as food:\n",
    "        content = food.read()\n",
    "        content = content.strip()\n",
    "        fcorpus.append(content)\n",
    "        \n",
    "for line in fcorpus:\n",
    "    together=\" \".join(jieba.cut(line, cut_all=False))\n",
    "    together = together.strip()\n",
    "    corpus.append(together)"
   ]
  },
  {
   "cell_type": "code",
   "execution_count": 229,
   "metadata": {},
   "outputs": [
    {
     "name": "stdout",
     "output_type": "stream",
     "text": [
      "(100, 10942)\n",
      "豆花 0.8162842489485129\n",
      "壽司 0.8651770178649163\n",
      "壽司 0.8414216532186902\n"
     ]
    }
   ],
   "source": [
    "from sklearn import feature_extraction\n",
    "from sklearn.feature_extraction.text import TfidfVectorizer\n",
    "\n",
    "vectorizer = TfidfVectorizer()\n",
    "tfidf = vectorizer.fit_transform(corpus)\n",
    "print(tfidf.shape)\n",
    "words = vectorizer.get_feature_names()\n",
    "weight=tfidf.toarray()\n",
    "# print(weight)\n",
    "# print(np.where(weight==np.max(weight)))\n",
    "# np.argsort(weight, axis=0) \n",
    "top=[]\n",
    "#i代表100篇文章，j代表裡面的斷詞\n",
    "for i in range(len(corpus)):\n",
    "    #print('----Document %d----'% (i))\n",
    "    for j in range(len(words)):\n",
    "        if weight[i][j] > 0.8:\n",
    "            top.append(words[j])#查看top n的名字是什麼\n",
    "            print(words[j], weight[i][j])"
   ]
  },
  {
   "cell_type": "code",
   "execution_count": 230,
   "metadata": {
    "scrolled": false
   },
   "outputs": [
    {
     "name": "stdout",
     "output_type": "stream",
     "text": [
      "(array([74, 92, 15, 70, 28, 19,  2, 13, 58, 93, 73, 55, 26, 26, 10, 24, 35,\n",
      "       88, 87, 87, 96, 45, 84, 26,  1, 95, 42, 59, 63, 40, 40, 64, 32, 41,\n",
      "       52, 89, 22, 22, 91, 43,  9, 20, 52, 34, 34,  8,  8, 56, 85, 86, 63,\n",
      "       77, 90, 47, 59, 41, 55,  6, 80, 34, 54, 50, 53, 53, 17, 96,  1, 60,\n",
      "       49,  2, 18, 34, 61, 62,  4, 33, 83, 38, 97, 13], dtype=int32), array([ 4118,  4118,  9346,  7414,  4118,  7201, 10650, 10791,  6388,\n",
      "        6869,  9346,  9379,  1040,  1377,  7395, 10739,  7074,  7347,\n",
      "        1086,  1095, 10455,  1387,  6771,  1065,  9346,  3726,  2253,\n",
      "        7395, 10347,  3793,  4476, 10137,  4118, 10784,  1008,  1317,\n",
      "        1368,   940,  4658, 10246,    55,   870,  1154,  1278,  1373,\n",
      "        5399,  2720,  7395,  6869, 10739,  6428,  1446,  7154,  8718,\n",
      "        9451,  6673,  5125,    23,  5982,  8992,  8997,  8933,  1145,\n",
      "        1192,  1146, 10669,  1876, 10749,  3098,  7197,  7074,  3043,\n",
      "        4635,    19,  1376,  9141,  7099,  2972,  7166,  6870],\n",
      "      dtype=int32))\n",
      "壽司 0.8651770178649163\n",
      "壽司 0.8414216532186902\n",
      "豆花 0.8162842489485129\n",
      "牡蠣 0.7200166190490496\n",
      "壽司 0.7086085875674827\n",
      "烏龍 0.6805305532923346\n",
      "香腸 0.6697437606919631\n",
      "鮭魚 0.6256215851128152\n",
      "柚子 0.6255049433938069\n",
      "海南 0.5958883279125635\n",
      "豆花 0.5634271444257285\n",
      "貓鼠 0.562353879153123\n",
      "ethanmps 0.5431358139420923\n",
      "photos 0.5431358139420923\n",
      "牛排 0.5385779182818706\n",
      "鬆餅 0.5374604885888741\n",
      "滿意度 0.5340639801962923\n",
      "燒鵝 0.5273038312925089\n",
      "gl 0.5272347170028854\n",
      "goo 0.5272347170028854\n",
      "韓牛 0.5258893646610576\n",
      "pizza 0.5079039905123595\n",
      "河粉 0.5003095770553413\n",
      "flickr 0.4983930641400728\n",
      "豆花 0.4977446062593747\n",
      "咖哩 0.4912059138417414\n",
      "乳酪 0.49090988792524437\n",
      "牛排 0.48947664577468464\n",
      "雞肉飯 0.47123243421721317\n",
      "商號 0.46807688106287765\n",
      "好豆堂 0.46807688106287765\n",
      "銷魂 0.4527573947276683\n",
      "壽司 0.45192278837843824\n",
      "魯肉 0.45009697237347873\n",
      "due 0.4474467823132631\n",
      "nt 0.4299309424171093\n",
      "pasta 0.42960903461010663\n",
      "circle 0.42960903461010663\n",
      "寶石 0.42189670685055436\n",
      "阿蘭 0.4217051753835556\n",
      "0rz 0.4197011208706488\n",
      "bar 0.4141152695840374\n",
      "italian 0.4105867577727059\n",
      "merveille 0.4057182510864191\n",
      "petite 0.4057182510864191\n",
      "慢磨 0.40543176367228556\n",
      "優果 0.40543176367228556\n",
      "牛排 0.40276211512634963\n",
      "海南 0.40055475715997924\n",
      "鬆餅 0.3988653060096623\n",
      "梁記 0.3917658387929524\n",
      "rou 0.39140365385917075\n",
      "火鍋 0.39118775472235834\n",
      "芒果 0.38808703661235233\n",
      "赤鬼 0.3876815072875985\n",
      "水伯 0.38713893757534956\n",
      "彰化 0.3870209795151666\n",
      "06 0.38591869648957267\n",
      "日常生活 0.38362515605593667\n",
      "蛋糕 0.38306070062167397\n",
      "蛋餅 0.38157099835118785\n",
      "薯條 0.38084657506375175\n",
      "imgur 0.37489072757336644\n",
      "jpg 0.37489072757336644\n",
      "imksw 0.3722783154931735\n",
      "馬場 0.3712160221136877\n",
      "三峽 0.3701752703901529\n",
      "魚刺 0.37003494803624876\n",
      "刨冰 0.3668815206825299\n",
      "烏來 0.3657538283392988\n",
      "60\n",
      "['壽司', '豆花', '牡蠣', '烏龍', '香腸', '鮭魚', '柚子', '海南', '貓鼠', 'ethanmps', 'photos', '牛排', '鬆餅', '滿意度', '燒鵝', 'gl', 'goo', '韓牛', 'pizza', '河粉', 'flickr', '咖哩', '乳酪', '雞肉飯', '商號', '好豆堂', '銷魂', '魯肉', 'due', 'nt', 'pasta', 'circle', '寶石', '阿蘭', '0rz', 'bar', 'italian', 'merveille', 'petite', '慢磨', '優果', '梁記', 'rou', '火鍋', '芒果', '赤鬼', '水伯', '彰化', '06', '日常生活', '蛋糕', '蛋餅', '薯條', 'imgur', 'jpg', 'imksw', '馬場', '三峽', '魚刺', '刨冰']\n"
     ]
    }
   ],
   "source": [
    "ii = np.unravel_index(np.argsort(weight.ravel())[-80:][::-1], weight.shape)\n",
    "print(ii)\n",
    "f_top=[]\n",
    "count=0\n",
    "\n",
    "for w in range(0,80):\n",
    "    #看看top n的名字和數字-沒過濾重複\n",
    "    print(words[ii[1][w]],weight[ii[0][w]][ii[1][w]])\n",
    "    \n",
    "    #把top的名字加入儲存的陣列-過濾重複\n",
    "    try: \n",
    "        if count == 60:\n",
    "            break\n",
    "        if words[ii[1][w]] not in f_top :\n",
    "            f_top.append(words[ii[1][w]])\n",
    "            count=count+1\n",
    "    except:\n",
    "        break\n",
    "    \n",
    "    with open('food60.csv','w',newline='',encoding='utf-8-sig') as f:\n",
    "        w = csv.writer(f)\n",
    "        w.writerow(f_top)\n",
    "print(count)    \n",
    "print(f_top)"
   ]
  },
  {
   "cell_type": "code",
   "execution_count": 24,
   "metadata": {},
   "outputs": [
    {
     "name": "stdout",
     "output_type": "stream",
     "text": [
      "<class 'scipy.sparse.csr.csr_matrix'>\n",
      "<class 'numpy.ndarray'>\n"
     ]
    }
   ],
   "source": [
    "print(type(tfidf))\n",
    "print(type(weight))"
   ]
  },
  {
   "cell_type": "code",
   "execution_count": 195,
   "metadata": {},
   "outputs": [
    {
     "name": "stdout",
     "output_type": "stream",
     "text": [
      "(array([74], dtype=int32), array([4118], dtype=int32))\n",
      "壽司 0.8651770178649163\n"
     ]
    }
   ],
   "source": [
    "#numpy找出最大值和位置\n",
    "x=np.where(weight==np.max(weight))\n",
    "print(x)\n",
    "print(words[4118],weight[74][4118])"
   ]
  },
  {
   "cell_type": "code",
   "execution_count": 7,
   "metadata": {},
   "outputs": [
    {
     "name": "stdout",
     "output_type": "stream",
     "text": [
      "['done', '同步', '晴空', '雙清', 'larsonloreal', '越南', '鬧鐘', 'bwhmj', '殘影', '04', '白邊', '03', '耳塞', 'ping', '08', '通知', '藍芽', '資料夾', '耳道', '切換', 'm9', 'iphone', '感應', '安全', '那條', '05', 'u11', 'hdr', 'andyfresh', '自拍', '備份', '日本', 'f7', 'qday', '平板', '降價', '聊天', 'yurian', 'oled', '印度', 'g5', '188', '山寨', 'sense', 'mate', 'xp', 'angela60531', 'joshua781021', '簡訊', '黑卡', '原生', '流量', '視訊', '電池', 'sugar', '皮套', 'kkcity59', '相簿', 'zenui', 'tony12526']\n"
     ]
    }
   ],
   "source": [
    "print(m_top)"
   ]
  },
  {
   "cell_type": "code",
   "execution_count": null,
   "metadata": {},
   "outputs": [],
   "source": []
  }
 ],
 "metadata": {
  "kernelspec": {
   "display_name": "Python 3",
   "language": "python",
   "name": "python3"
  },
  "language_info": {
   "codemirror_mode": {
    "name": "ipython",
    "version": 3
   },
   "file_extension": ".py",
   "mimetype": "text/x-python",
   "name": "python",
   "nbconvert_exporter": "python",
   "pygments_lexer": "ipython3",
   "version": "3.7.0"
  }
 },
 "nbformat": 4,
 "nbformat_minor": 2
}
