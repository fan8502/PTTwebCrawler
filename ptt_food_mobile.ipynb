{
 "cells": [
  {
   "cell_type": "code",
   "execution_count": 39,
   "metadata": {},
   "outputs": [],
   "source": [
    "import requests\n",
    "from bs4 import BeautifulSoup"
   ]
  },
  {
   "cell_type": "code",
   "execution_count": 40,
   "metadata": {},
   "outputs": [],
   "source": [
    "count = 0\n",
    "num_page=6"
   ]
  },
  {
   "cell_type": "code",
   "execution_count": 41,
   "metadata": {},
   "outputs": [
    {
     "name": "stdout",
     "output_type": "stream",
     "text": [
      "20\n",
      "39\n",
      "59\n",
      "78\n",
      "98\n"
     ]
    }
   ],
   "source": [
    "for i in range(1,6):\n",
    "    num_page=6-i\n",
    "    res = requests.get('https://www.ptt.cc/bbs/Food/index682{0}.html'.format(num_page))\n",
    "    soup = BeautifulSoup(res.text)\n",
    "    post_title = soup.select('div.title')\n",
    "    url_domain ='https://www.ptt.cc'\n",
    "\n",
    "    #controls = soup.select('div.action-bar a.btn.wide')\n",
    "    #up_link = controls[1].get('href')\n",
    "    #up_page = url_domain+up_link\n",
    "\n",
    "    for post in post_title:\n",
    "        title = post.text\n",
    "        try:\n",
    "            res_context = requests.get(url_domain+post.find('a').get('href'))\n",
    "            soup_context = BeautifulSoup(res_context.text)\n",
    "            for content in soup_context.select('div#main-content'):\n",
    "                with open(title,'w') as outtitle:\n",
    "                    outtitle.write(content.text)\n",
    "                outtitle.close()\n",
    "                count = count+1\n",
    "        except:\n",
    "            soup_context = False\n",
    "    print(count)"
   ]
  },
  {
   "cell_type": "code",
   "execution_count": null,
   "metadata": {},
   "outputs": [],
   "source": []
  }
 ],
 "metadata": {
  "kernelspec": {
   "display_name": "Python 3",
   "language": "python",
   "name": "python3"
  },
  "language_info": {
   "codemirror_mode": {
    "name": "ipython",
    "version": 3
   },
   "file_extension": ".py",
   "mimetype": "text/x-python",
   "name": "python",
   "nbconvert_exporter": "python",
   "pygments_lexer": "ipython3",
   "version": "3.7.0b2"
  }
 },
 "nbformat": 4,
 "nbformat_minor": 2
}
