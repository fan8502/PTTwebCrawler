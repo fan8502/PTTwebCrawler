{
 "cells": [
  {
   "cell_type": "code",
   "execution_count": 11,
   "metadata": {},
   "outputs": [],
   "source": [
    "import requests\n",
    "from bs4 import BeautifulSoup\n",
    "import os"
   ]
  },
  {
   "cell_type": "code",
   "execution_count": 18,
   "metadata": {},
   "outputs": [],
   "source": [
    "count_f = 0\n",
    "count_m = 0\n",
    "num_f_page = 6\n",
    "num_m_page = 9\n",
    "name=1"
   ]
  },
  {
   "cell_type": "code",
   "execution_count": 10,
   "metadata": {},
   "outputs": [
    {
     "name": "stdout",
     "output_type": "stream",
     "text": [
      "20\n",
      "39\n",
      "59\n",
      "79\n",
      "99\n",
      "100\n"
     ]
    }
   ],
   "source": [
    "#爬food版\n",
    "for i in range(1,7):\n",
    "    num_f_page = 6-i\n",
    "    res = requests.get('https://www.ptt.cc/bbs/Food/index682{0}.html'.format(num_f_page))\n",
    "    soup = BeautifulSoup(res.text)\n",
    "    post_title = soup.select('div.title')\n",
    "    url_domain ='https://www.ptt.cc'\n",
    "    \n",
    "    os.chdir(\"C:\\\\Users\\\\fan\\\\Desktop\\\\webBug\\\\food\")\n",
    "\n",
    "    #controls = soup.select('div.action-bar a.btn.wide')\n",
    "    #up_link = controls[1].get('href')\n",
    "    #up_page = url_domain+up_link\n",
    "    \n",
    "    for post in post_title:\n",
    "        title = post.text\n",
    "        try:\n",
    "            if name==101:\n",
    "                break\n",
    "            res_context = requests.get(url_domain+post.find('a').get('href'))\n",
    "            soup_context = BeautifulSoup(res_context.text)\n",
    "            for content in soup_context.select('div#main-content'):\n",
    "                with open('f'+str(name)+'.txt','w', encoding = 'utf8') as outtitle:\n",
    "                    outtitle.write(content.text)\n",
    "                outtitle.close()\n",
    "                count_f = count_f+1\n",
    "            name=name+1\n",
    "        except:\n",
    "            soup_context = False\n",
    "    print(count_f)"
   ]
  },
  {
   "cell_type": "code",
   "execution_count": 19,
   "metadata": {},
   "outputs": [
    {
     "name": "stdout",
     "output_type": "stream",
     "text": [
      "14\n",
      "32\n",
      "52\n",
      "72\n",
      "92\n",
      "100\n",
      "100\n"
     ]
    }
   ],
   "source": [
    "#爬mobile版\n",
    "for i in range(0,7):\n",
    "    num_m_page = 9-i\n",
    "    res = requests.get('https://www.ptt.cc/bbs/MobileComm/index649{0}.html'.format(num_m_page))\n",
    "    soup = BeautifulSoup(res.text)\n",
    "    post_title = soup.select('div.title')\n",
    "    url_domain ='https://www.ptt.cc'\n",
    "    \n",
    "    os.chdir(\"C:\\\\Users\\\\fan\\\\Desktop\\\\webBug\\\\mobile\")\n",
    "    \n",
    "    for post in post_title:\n",
    "        title = post.text\n",
    "        try:\n",
    "            if name==101:\n",
    "                break\n",
    "            res_context = requests.get(url_domain+post.find('a').get('href'))\n",
    "            soup_context = BeautifulSoup(res_context.text)\n",
    "            for content in soup_context.select('div#main-content'):\n",
    "                with open('m'+str(name)+'.txt','w', encoding = 'utf8') as outtitle:\n",
    "                    outtitle.write(content.text)\n",
    "                outtitle.close()\n",
    "                count_m = count_m+1\n",
    "            name=name+1\n",
    "        except:\n",
    "            soup_context = False\n",
    "    print(count_m)"
   ]
  },
  {
   "cell_type": "code",
   "execution_count": null,
   "metadata": {},
   "outputs": [],
   "source": []
  }
 ],
 "metadata": {
  "kernelspec": {
   "display_name": "Python 3",
   "language": "python",
   "name": "python3"
  },
  "language_info": {
   "codemirror_mode": {
    "name": "ipython",
    "version": 3
   },
   "file_extension": ".py",
   "mimetype": "text/x-python",
   "name": "python",
   "nbconvert_exporter": "python",
   "pygments_lexer": "ipython3",
   "version": "3.7.0"
  }
 },
 "nbformat": 4,
 "nbformat_minor": 2
}
