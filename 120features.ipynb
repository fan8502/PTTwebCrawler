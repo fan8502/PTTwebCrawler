{
 "cells": [
  {
   "cell_type": "code",
   "execution_count": 1,
   "metadata": {},
   "outputs": [],
   "source": [
    "import jieba\n",
    "import jieba.analyse\n",
    "import csv\n",
    "import numpy as np\n",
    "jieba.set_dictionary('dict.txt.big.txt')"
   ]
  },
  {
   "cell_type": "code",
   "execution_count": 83,
   "metadata": {
    "scrolled": true
   },
   "outputs": [
    {
     "name": "stdout",
     "output_type": "stream",
     "text": [
      "['Feature', '壽司', '豆花', '牡蠣', '烏龍', '香腸', '鮭魚', '柚子', '海南', '貓鼠', 'ethanmps', 'photos', '牛排', '鬆餅', '滿意度', '燒鵝', 'gl', 'goo', '韓牛', 'pizza', '河粉', 'flickr', '咖哩', '乳酪', '雞肉飯', '商號', '好豆堂', '銷魂', '魯肉', 'due', 'nt', 'pasta', 'circle', '寶石', '阿蘭', '0rz', 'bar', 'italian', 'merveille', 'petite', '慢磨', '優果', '梁記', 'rou', '火鍋', '芒果', '赤鬼', '水伯', '彰化', '06', '日常生活', '蛋糕', '蛋餅', '薯條', 'imgur', 'jpg', 'imksw', '馬場', '三峽', '魚刺', '刨冰', 'done', '同步', '晴空', '雙清', 'larsonloreal', '越南', '鬧鐘', 'bwhmj', '殘影', '04', '白邊', '03', '耳塞', 'ping', '08', '通知', '藍芽', '資料夾', '耳道', '切換', 'm9', 'iphone', '感應', '安全', '那條', '05', 'u11', 'hdr', 'andyfresh', '自拍', '備份', '日本', 'f7', 'qday', '平板', '降價', '聊天', 'yurian', 'oled', '印度', 'g5', '188', '山寨', 'sense', 'mate', 'xp', 'angela60531', 'joshua781021', '簡訊', '黑卡', '原生', '流量', '視訊', '電池', 'sugar', '皮套', 'kkcity59', '相簿', 'zenui', 'tony12526']\n"
     ]
    }
   ],
   "source": [
    "#把120個特徵字放到fearure[]\n",
    "feature=[]\n",
    "path_f = \"/food\"\n",
    "with open('food60.csv','r', encoding = 'utf-8-sig') as food:\n",
    "    for line in food.readlines():\n",
    "        name = line.strip().split(',')\n",
    "        feature.append(name)\n",
    "with open('mobile60.csv','r', encoding = 'utf-8-sig') as mobile:\n",
    "    for line in mobile.readlines():\n",
    "        name = line.strip().split(',')\n",
    "        feature.append(name)\n",
    "turnFeature=sum(feature,[])\n",
    "turnFeature.insert(0,'Feature')\n",
    "print(turnFeature)#feature是二維陣列，轉為一維儲存"
   ]
  },
  {
   "cell_type": "code",
   "execution_count": 3,
   "metadata": {},
   "outputs": [],
   "source": [
    "#把200篇文章放到paper=[]\n",
    "paper=[]\n",
    "path_f = \"C:\\\\Users\\\\fan\\\\Desktop\\\\webBug\\\\food\\\\\"\n",
    "path_m = \"C:\\\\Users\\\\fan\\\\Desktop\\\\webBug\\\\mobile\\\\\"\n",
    "for i in range(1,101):\n",
    "    with open(path_f+'f{0}.txt'.format(i),'r', encoding = 'utf8') as food:\n",
    "        content = food.read()\n",
    "        content = content.strip()\n",
    "        paper.append(content)\n",
    "for i in range(1,101):\n",
    "    with open(path_m+'m{0}.txt'.format(i),'r', encoding = 'utf8') as mobile:\n",
    "        content = mobile.read()\n",
    "        content = content.strip()\n",
    "        paper.append(content)"
   ]
  },
  {
   "cell_type": "code",
   "execution_count": 84,
   "metadata": {},
   "outputs": [],
   "source": [
    "fileName=[]\n",
    "for i in range(1,101):\n",
    "    fileName.append('f{0}'.format(i))\n",
    "for i in range(1,101):\n",
    "    fileName.append('m{0}'.format(i))"
   ]
  },
  {
   "cell_type": "code",
   "execution_count": 91,
   "metadata": {},
   "outputs": [],
   "source": [
    "torf=[]\n",
    "csvfile = open('feature.csv', 'w', newline = '')\n",
    "writer = csv.writer(csvfile)\n",
    "writer.writerow(turnFeature)\n",
    "for p in range(0,200):\n",
    "    torf.append(fileName[p])\n",
    "    for f in range(1,121):\n",
    "        if turnFeature[f] in paper[p] :\n",
    "            torf.append('1')\n",
    "        else:\n",
    "            torf.append('0')\n",
    "    writer.writerow(torf)\n",
    "    torf=[]\n",
    "csvfile.close()"
   ]
  },
  {
   "cell_type": "code",
   "execution_count": null,
   "metadata": {},
   "outputs": [],
   "source": []
  }
 ],
 "metadata": {
  "kernelspec": {
   "display_name": "Python 3",
   "language": "python",
   "name": "python3"
  },
  "language_info": {
   "codemirror_mode": {
    "name": "ipython",
    "version": 3
   },
   "file_extension": ".py",
   "mimetype": "text/x-python",
   "name": "python",
   "nbconvert_exporter": "python",
   "pygments_lexer": "ipython3",
   "version": "3.7.0"
  }
 },
 "nbformat": 4,
 "nbformat_minor": 2
}
